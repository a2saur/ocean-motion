{
 "cells": [
  {
   "cell_type": "markdown",
   "metadata": {},
   "source": [
    "## **Exploring netCDFs** \n",
    "adapted from [Katy Abbot](https://github.com/amnh/BridgeUP-STEM-Oceans-Six/blob/master/jupyter-notebooks/netCDF_practice.ipynb)"
   ]
  },
  {
   "cell_type": "markdown",
   "metadata": {},
   "source": [
    "![image](https://camo.githubusercontent.com/77e36a1f8169f7da010f7c1615fe39ab88f190ea/687474703a2f2f6465736b746f702e6172636769732e636f6d2f656e2f6172636d61702f31302e332f6d616e6167652d646174612f6e65746364662f475549442d44383732413443332d373439452d343135392d413643302d4642364433423437433544382d7765622e676966)\n",
    "What are netCDF files? The acronym stands for Network Common Data Form, and they're a way of formatting data that makes it easy for other scientists to share and read data on different computers, with different operating systems, with different software etc... without running into issues or struggling to understand someone else's work!"
   ]
  },
  {
   "cell_type": "markdown",
   "metadata": {},
   "source": [
    "netCDF files are in what we call an array-oriented dataset. Data is stored in arrays, which are like grids, and can be accessed by selecting the appropriate row and column. Here's an example of a 2D array:"
   ]
  },
  {
   "cell_type": "markdown",
   "metadata": {},
   "source": [
    "<img src=\"https://camo.githubusercontent.com/b525fcfb6792a87d5a15b0b1c52fc39aff739722/68747470733a2f2f7777772e6479636c617373726f6f6d2e636f6d2f696d6167652f746f7069632f632f32642d61727261792f32642d61727261792e6a7067\" width=\"600\"/>"
   ]
  },
  {
   "cell_type": "markdown",
   "metadata": {},
   "source": [
    "With netCDF files, our rows, columns, and other indices are called dimensions, and they can take values such as latitude, longitude and time."
   ]
  },
  {
   "cell_type": "markdown",
   "metadata": {},
   "source": [
    "\n",
    "<img src=\"https://simulatingcomplexity.files.wordpress.com/2014/11/netcdf-file-structure.png\" width=\"400\"/>\n",
    "\n",
    "Let's try to explore this file format with an actual file. Make sure you have the file **n-atlantic-t0.nc** somewhere you will be able to find it but **not in your GitHub repository (not in ocean-motion)**. This is the data we are going to use for our data processing. "
   ]
  },
  {
   "cell_type": "markdown",
   "metadata": {},
   "source": [
    "First, we are going to explore the file in Terminal.\n",
    "\n",
    "* In Terminal, type **ncdump -h n-atlantic-t0.nc** to see all the headers for the file. \n",
    "\n",
    "* Type **ncdump -v header-title n-atlantic-t0.nc**, where header-title is the header you want to look at, to see the data in the file under that header.\n",
    "    \n",
    "* Try exploring the files by searching different headers (time, lattitude, etc.)"
   ]
  },
  {
   "cell_type": "markdown",
   "metadata": {},
   "source": [
    "Now we are going to explore using python:  Our first step is to import netCDF4. \n",
    "\n",
    "Then we are going to load the dataset using the ``Dataset()`` function, one of the main tools we use for viewing netCDF files. The ``r`` in the function tells the function that you are opening the file to read it."
   ]
  },
  {
   "cell_type": "code",
   "execution_count": 7,
   "metadata": {},
   "outputs": [],
   "source": [
    "from netCDF4 import Dataset #import Dataset from the netCDF4 package\n",
    "my_data = Dataset(r'C:\\Users\\Me\\Desktop\\Data for Internships\\n-atlantic-t0.nc') #replace with pathname for your computer\n"
   ]
  },
  {
   "cell_type": "code",
   "execution_count": 8,
   "metadata": {},
   "outputs": [
    {
     "name": "stdout",
     "output_type": "stream",
     "text": [
      "<class 'netCDF4._netCDF4.Dataset'>\n",
      "root group (NETCDF3_CLASSIC data model, file format NETCDF3):\n",
      "    description: ARMOR3D REP CMEMS - April 2019 Release\n",
      "    title: ARMOR3D REP - TSHUVMld Global Ocean Observation-based Product\n",
      "    Conventions: CF-1.0\n",
      "    institution: CLS\n",
      "    domain_name: GLO\n",
      "    history: 2019-03-22 17:53:09 ARMOR3D REP - TSHUV Global Ocean Obervation-based Product netCDF creation\n",
      "    _CoordSysBuilder: ucar.nc2.dataset.conv.CF1Convention\n",
      "    references:  \n",
      "    comment: \n",
      "    source:  \n",
      "    dimensions(sizes): time(261), depth(7), latitude(158), longitude(255)\n",
      "    variables(dimensions): int16 \u001b[4mdepth\u001b[0m(depth), int16 \u001b[4mzo\u001b[0m(time,depth,latitude,longitude), float32 \u001b[4mlatitude\u001b[0m(latitude), int32 \u001b[4mtime\u001b[0m(time), int16 \u001b[4mto\u001b[0m(time,depth,latitude,longitude), int16 \u001b[4mso\u001b[0m(time,depth,latitude,longitude), int16 \u001b[4mugo\u001b[0m(time,depth,latitude,longitude), float32 \u001b[4mlongitude\u001b[0m(longitude), int16 \u001b[4mvgo\u001b[0m(time,depth,latitude,longitude)\n",
      "    groups: \n",
      "\n"
     ]
    }
   ],
   "source": [
    "print(my_data) #What output do you see when you run this command?"
   ]
  },
  {
   "cell_type": "markdown",
   "metadata": {},
   "source": [
    "Note that we've now created an object, called my_data, that we can use to access different aspects of the file. We'll use the dot notation (i.e. ``my_data.blahblahblah``) to access different parts of the data.\n",
    "\n",
    "Let's find out more about this dataset. We'll look at the \"metadata,\" which is basically data about the data. \n",
    "\n",
    "Scientists use this to explain how the data was acquired or made, how old it is, who to contact with questions etc. First, we'll look at the dataset's \"global attributes,\" which can be accessed by calling ncattrs (shorthand for netcdf attributes)."
   ]
  },
  {
   "cell_type": "code",
   "execution_count": 9,
   "metadata": {},
   "outputs": [
    {
     "data": {
      "text/plain": [
       "['description',\n",
       " 'title',\n",
       " 'Conventions',\n",
       " 'institution',\n",
       " 'domain_name',\n",
       " 'history',\n",
       " '_CoordSysBuilder',\n",
       " 'references',\n",
       " 'comment',\n",
       " 'source']"
      ]
     },
     "execution_count": 9,
     "metadata": {},
     "output_type": "execute_result"
    }
   ],
   "source": [
    "my_data.ncattrs()"
   ]
  },
  {
   "cell_type": "markdown",
   "metadata": {},
   "source": [
    "To look at one of these, type in the name of the dataset variable, and add a period (.) and the name of the attribute you want to look at."
   ]
  },
  {
   "cell_type": "code",
   "execution_count": 12,
   "metadata": {},
   "outputs": [
    {
     "name": "stdout",
     "output_type": "stream",
     "text": [
      "ARMOR3D REP - TSHUVMld Global Ocean Observation-based Product\n",
      "CLS\n",
      "CF-1.0\n"
     ]
    }
   ],
   "source": [
    "print(my_data.title)\n",
    "\n",
    "# add two here\n",
    "print(my_data.institution)\n",
    "print(my_data.Conventions)"
   ]
  },
  {
   "cell_type": "markdown",
   "metadata": {},
   "source": [
    "You can access the dimensions of the dataset by calling **my_data.dimensions.** Notice that the output is a dictionary. We can see the \"keys,\" or dimension names, with **my_data.dimensions.keys()**"
   ]
  },
  {
   "cell_type": "code",
   "execution_count": 13,
   "metadata": {},
   "outputs": [
    {
     "name": "stdout",
     "output_type": "stream",
     "text": [
      "OrderedDict([('time', <class 'netCDF4._netCDF4.Dimension'>: name = 'time', size = 261\n",
      "), ('depth', <class 'netCDF4._netCDF4.Dimension'>: name = 'depth', size = 7\n",
      "), ('latitude', <class 'netCDF4._netCDF4.Dimension'>: name = 'latitude', size = 158\n",
      "), ('longitude', <class 'netCDF4._netCDF4.Dimension'>: name = 'longitude', size = 255\n",
      ")])\n",
      "odict_keys(['time', 'depth', 'latitude', 'longitude'])\n"
     ]
    }
   ],
   "source": [
    "print(my_data.dimensions)\n",
    "print(my_data.dimensions.keys())"
   ]
  },
  {
   "cell_type": "markdown",
   "metadata": {},
   "source": [
    "If you want to see a specific dimension, you can do so by adding brackets and the dimension name in quotes. i.e. **my_data.dimensions['time']**"
   ]
  },
  {
   "cell_type": "code",
   "execution_count": 14,
   "metadata": {},
   "outputs": [
    {
     "name": "stdout",
     "output_type": "stream",
     "text": [
      "<class 'netCDF4._netCDF4.Dimension'>: name = 'time', size = 261\n",
      "\n",
      "<class 'netCDF4._netCDF4.Dimension'>: name = 'latitude', size = 158\n",
      "\n"
     ]
    }
   ],
   "source": [
    "print(my_data.dimensions['time'])\n",
    "print(my_data.dimensions['latitude'])"
   ]
  },
  {
   "cell_type": "markdown",
   "metadata": {},
   "source": [
    "\n",
    "We can also access the variables of our dataset by typing dataset.variables"
   ]
  },
  {
   "cell_type": "code",
   "execution_count": 15,
   "metadata": {},
   "outputs": [
    {
     "name": "stdout",
     "output_type": "stream",
     "text": [
      "OrderedDict([('depth', <class 'netCDF4._netCDF4.Variable'>\n",
      "int16 depth(depth)\n",
      "    axis: Z\n",
      "    long_name: depth\n",
      "    positive: down\n",
      "    standard_name: depth\n",
      "    unit_long: meter\n",
      "    units: m\n",
      "    _CoordinateAxisType: Height\n",
      "    _CoordinateZisPositive: down\n",
      "    valid_min: 0\n",
      "    valid_max: 100\n",
      "unlimited dimensions: \n",
      "current shape = (7,)\n",
      "filling on, default _FillValue of -32767 used\n",
      "), ('zo', <class 'netCDF4._netCDF4.Variable'>\n",
      "int16 zo(time, depth, latitude, longitude)\n",
      "    _FillValue: 32767\n",
      "    long_name: absolute height\n",
      "    scale_factor: 0.001\n",
      "    standard_name: geopotential_height\n",
      "    unit_long: meter\n",
      "    units: m\n",
      "    valid_range: [-20000  20000]\n",
      "unlimited dimensions: \n",
      "current shape = (261, 7, 158, 255)\n",
      "filling on), ('latitude', <class 'netCDF4._netCDF4.Variable'>\n",
      "float32 latitude(latitude)\n",
      "    axis: Y\n",
      "    long_name: latitude\n",
      "    standard_name: latitude\n",
      "    step: 0.25\n",
      "    unit_long: degrees north\n",
      "    units: degrees_north\n",
      "    _CoordinateAxisType: Lat\n",
      "    valid_min: 12.625\n",
      "    valid_max: 51.875\n",
      "unlimited dimensions: \n",
      "current shape = (158,)\n",
      "filling on, default _FillValue of 9.969209968386869e+36 used\n",
      "), ('time', <class 'netCDF4._netCDF4.Variable'>\n",
      "int32 time(time)\n",
      "    units: hours since 1950-01-01\n",
      "    _CoordinateAxisType: Time\n",
      "    axis: T\n",
      "    long_name: time\n",
      "    standard_name: time\n",
      "    calendar: gregorian\n",
      "    valid_min: 377064\n",
      "    valid_max: 420744\n",
      "unlimited dimensions: \n",
      "current shape = (261,)\n",
      "filling on, default _FillValue of -2147483647 used\n",
      "), ('to', <class 'netCDF4._netCDF4.Variable'>\n",
      "int16 to(time, depth, latitude, longitude)\n",
      "    _FillValue: 32767\n",
      "    add_offset: 20.0\n",
      "    long_name: temperature\n",
      "    scale_factor: 0.001\n",
      "    standard_name: sea_water_temperature\n",
      "    unit_long: degree Celsius\n",
      "    units: degrees_C\n",
      "unlimited dimensions: \n",
      "current shape = (261, 7, 158, 255)\n",
      "filling on), ('so', <class 'netCDF4._netCDF4.Variable'>\n",
      "int16 so(time, depth, latitude, longitude)\n",
      "    _FillValue: 32767\n",
      "    add_offset: 20.0\n",
      "    long_name: salinity\n",
      "    scale_factor: 0.001\n",
      "    standard_name: sea_water_salinity\n",
      "    unit_long: practical salinity unit\n",
      "    units: 0.001\n",
      "unlimited dimensions: \n",
      "current shape = (261, 7, 158, 255)\n",
      "filling on), ('ugo', <class 'netCDF4._netCDF4.Variable'>\n",
      "int16 ugo(time, depth, latitude, longitude)\n",
      "    _FillValue: 32767\n",
      "    long_name: geostrophic zonal velocity from thermal wind equation\n",
      "    scale_factor: 0.001\n",
      "    standard_name: geostrophic_eastward_sea_water_velocity\n",
      "    unit_long: meter per second\n",
      "    units: m s-1\n",
      "    valid_range: [-4000  4000]\n",
      "unlimited dimensions: \n",
      "current shape = (261, 7, 158, 255)\n",
      "filling on), ('longitude', <class 'netCDF4._netCDF4.Variable'>\n",
      "float32 longitude(longitude)\n",
      "    axis: X\n",
      "    long_name: longitude\n",
      "    standard_name: longitude\n",
      "    step: 0.25\n",
      "    unit_long: degrees east\n",
      "    units: degrees_east\n",
      "    _CoordinateAxisType: Lon\n",
      "    valid_min: 285.875\n",
      "    valid_max: 349.375\n",
      "unlimited dimensions: \n",
      "current shape = (255,)\n",
      "filling on, default _FillValue of 9.969209968386869e+36 used\n",
      "), ('vgo', <class 'netCDF4._netCDF4.Variable'>\n",
      "int16 vgo(time, depth, latitude, longitude)\n",
      "    _FillValue: 32767\n",
      "    long_name: geostrophic meridional velocity from thermal wind equation\n",
      "    scale_factor: 0.001\n",
      "    standard_name: geostrophic_northward_sea_water_velocity\n",
      "    unit_long: meter per second\n",
      "    units: m s-1\n",
      "    valid_range: [-4000  4000]\n",
      "unlimited dimensions: \n",
      "current shape = (261, 7, 158, 255)\n",
      "filling on)]) \n",
      " \n",
      "\n"
     ]
    }
   ],
   "source": [
    "print(my_data.variables, \"\\n \\n\")  #\"\\n\" creates a new empty line so you can separate your output\n",
    "\n"
   ]
  },
  {
   "cell_type": "markdown",
   "metadata": {},
   "source": [
    "This is kind of too much information, right? To just look at the names of the variables, we can use ``.variables.keys()``:"
   ]
  },
  {
   "cell_type": "code",
   "execution_count": 16,
   "metadata": {},
   "outputs": [
    {
     "name": "stdout",
     "output_type": "stream",
     "text": [
      "odict_keys(['depth', 'zo', 'latitude', 'time', 'to', 'so', 'ugo', 'longitude', 'vgo'])\n"
     ]
    }
   ],
   "source": [
    "print(my_data.variables.keys())"
   ]
  },
  {
   "cell_type": "markdown",
   "metadata": {},
   "source": [
    "## looking at one variable + its attributes: \n",
    "These variables have a lot more information, right? Let's look at just one variable: latitude. Inspect it by typing **my_data.variables['latitude']**\n"
   ]
  },
  {
   "cell_type": "code",
   "execution_count": 21,
   "metadata": {},
   "outputs": [
    {
     "data": {
      "text/plain": [
       "<class 'netCDF4._netCDF4.Variable'>\n",
       "int16 ugo(time, depth, latitude, longitude)\n",
       "    _FillValue: 32767\n",
       "    long_name: geostrophic zonal velocity from thermal wind equation\n",
       "    scale_factor: 0.001\n",
       "    standard_name: geostrophic_eastward_sea_water_velocity\n",
       "    unit_long: meter per second\n",
       "    units: m s-1\n",
       "    valid_range: [-4000  4000]\n",
       "unlimited dimensions: \n",
       "current shape = (261, 7, 158, 255)\n",
       "filling on"
      ]
     },
     "execution_count": 21,
     "metadata": {},
     "output_type": "execute_result"
    }
   ],
   "source": [
    "my_data.variables['ugo']"
   ]
  },
  {
   "cell_type": "markdown",
   "metadata": {},
   "source": [
    "How many different attributes can you identify? (standard_name, long_name, cell_methods, _FillValue, missing_value, original_name, original_units, history, current shape). Look at the second line. It gives the name of the variable, and it also lists three names in parentheses after it. What do you think those names signify?\n",
    "\n",
    "## looking at a specific attribute:\n",
    "We can access any one of these attributes by calling it directly. Just add a period at the end of your call to a variable and add in the attribute name."
   ]
  },
  {
   "cell_type": "code",
   "execution_count": 23,
   "metadata": {},
   "outputs": [
    {
     "name": "stdout",
     "output_type": "stream",
     "text": [
      "geostrophic zonal velocity from thermal wind equation\n"
     ]
    }
   ],
   "source": [
    "print(my_data.variables['ugo'].long_name)\n",
    "# I got 'long_name' from the list of attributes above\n",
    "# other examples are 'unit_long', 'units', 'valid min', and 'valid max'. "
   ]
  },
  {
   "cell_type": "markdown",
   "metadata": {},
   "source": [
    "You may be wondering: Where's the actual data?? So far, we've learning about what variables and dimensions are in this dataset, but we haven't actually seen any numbers or values.\n",
    "\n",
    "Let's look at the latitude and longitude values. To do so, you'll call on a variable (i.e. ``my_data.variables['longitude']``, as above), but you'll add ``[:]`` after it to tell the computer that you want to see the numpy array."
   ]
  },
  {
   "cell_type": "code",
   "execution_count": 24,
   "metadata": {},
   "outputs": [
    {
     "name": "stdout",
     "output_type": "stream",
     "text": [
      "latitude:  [12.625 12.875 13.125 13.375 13.625 13.875 14.125 14.375 14.625 14.875\n",
      " 15.125 15.375 15.625 15.875 16.125 16.375 16.625 16.875 17.125 17.375\n",
      " 17.625 17.875 18.125 18.375 18.625 18.875 19.125 19.375 19.625 19.875\n",
      " 20.125 20.375 20.625 20.875 21.125 21.375 21.625 21.875 22.125 22.375\n",
      " 22.625 22.875 23.125 23.375 23.625 23.875 24.125 24.375 24.625 24.875\n",
      " 25.125 25.375 25.625 25.875 26.125 26.375 26.625 26.875 27.125 27.375\n",
      " 27.625 27.875 28.125 28.375 28.625 28.875 29.125 29.375 29.625 29.875\n",
      " 30.125 30.375 30.625 30.875 31.125 31.375 31.625 31.875 32.125 32.375\n",
      " 32.625 32.875 33.125 33.375 33.625 33.875 34.125 34.375 34.625 34.875\n",
      " 35.125 35.375 35.625 35.875 36.125 36.375 36.625 36.875 37.125 37.375\n",
      " 37.625 37.875 38.125 38.375 38.625 38.875 39.125 39.375 39.625 39.875\n",
      " 40.125 40.375 40.625 40.875 41.125 41.375 41.625 41.875 42.125 42.375\n",
      " 42.625 42.875 43.125 43.375 43.625 43.875 44.125 44.375 44.625 44.875\n",
      " 45.125 45.375 45.625 45.875 46.125 46.375 46.625 46.875 47.125 47.375\n",
      " 47.625 47.875 48.125 48.375 48.625 48.875 49.125 49.375 49.625 49.875\n",
      " 50.125 50.375 50.625 50.875 51.125 51.375 51.625 51.875]\n"
     ]
    }
   ],
   "source": [
    "print(\"latitude: \", my_data.variables['latitude'][:]) #print the latitude values, and then add a line break to distinguish from longitude\n"
   ]
  },
  {
   "cell_type": "markdown",
   "metadata": {},
   "source": [
    "Let's look at some attributes and data of another variable. From the variables in ``my_data.variables.keys()`` pick another variable, print all the attributes, print some specific attributes, and print the data in that variable. "
   ]
  },
  {
   "cell_type": "code",
   "execution_count": null,
   "metadata": {},
   "outputs": [],
   "source": [
    "# pick a variable and print all the atributes here:\n"
   ]
  },
  {
   "cell_type": "code",
   "execution_count": null,
   "metadata": {},
   "outputs": [],
   "source": [
    "# print a few specific attributes here: \n"
   ]
  },
  {
   "cell_type": "code",
   "execution_count": null,
   "metadata": {},
   "outputs": [],
   "source": [
    "# print the data in that variable here: \n"
   ]
  },
  {
   "cell_type": "markdown",
   "metadata": {},
   "source": [
    "For the variable you chose, try to understand what it is, and what the meanings of the attributes and data are. "
   ]
  },
  {
   "cell_type": "markdown",
   "metadata": {},
   "source": [
    "## 👉netCDF file cheat sheet👈\n",
    "[This tutorial](http://www.ceda.ac.uk/static/media/uploads/ncas-reading-2015/10_read_netcdf_python.pdf) was written in Python 2.7, so the print command is slightly different, but it's a helpful read to understand how these files work.\n",
    "\n",
    "Addditionally:\n",
    "1. Import the tools to open a dataset: **from netCDF4 import Dataset**\n",
    "2. Open a dataset: **dataset = Dataset(r'filename.nc')**\n",
    "3. View the dataset's attributes: **dataset.ncattrs()**\n",
    "4. Access a specific attribute: **dataset.attribute_name**\n",
    "5. View the dataset's dimensions: **dataset.dimensions**\n",
    "6. View a specific dimension: **dataset.dimensions[ 'name of dimension' ]**\n",
    "7. View the dataset's variables: **dataset.variables**\n",
    "8. View a specific variable: **dataset.variables[ 'name of variable' ]**\n",
    "9. See a variable's values: **dataset.variables[ 'name of variable' ][ : ]**"
   ]
  },
  {
   "cell_type": "code",
   "execution_count": null,
   "metadata": {},
   "outputs": [],
   "source": []
  }
 ],
 "metadata": {
  "kernelspec": {
   "display_name": "Python 3",
   "language": "python",
   "name": "python3"
  },
  "language_info": {
   "codemirror_mode": {
    "name": "ipython",
    "version": 3
   },
   "file_extension": ".py",
   "mimetype": "text/x-python",
   "name": "python",
   "nbconvert_exporter": "python",
   "pygments_lexer": "ipython3",
   "version": "3.7.3"
  }
 },
 "nbformat": 4,
 "nbformat_minor": 2
}
